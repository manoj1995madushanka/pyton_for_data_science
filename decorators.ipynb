{
 "cells": [
  {
   "cell_type": "code",
   "execution_count": 1,
   "metadata": {
    "collapsed": true,
    "ExecuteTime": {
     "end_time": "2024-12-23T03:38:32.878109200Z",
     "start_time": "2024-12-23T03:38:32.869260100Z"
    }
   },
   "outputs": [
    {
     "name": "stdout",
     "output_type": "stream",
     "text": [
      "welcome\n",
      "welcome\n"
     ]
    }
   ],
   "source": [
    "## function copy\n",
    "def welcome():\n",
    "    return \"welcome\"\n",
    "\n",
    "\n",
    "welcome()\n",
    "\n",
    "wel = welcome\n",
    "print(wel())\n",
    "del welcome\n",
    "print(wel())\n",
    "\n"
   ]
  },
  {
   "cell_type": "code",
   "execution_count": 2,
   "outputs": [
    {
     "name": "stdout",
     "output_type": "stream",
     "text": [
      "inside sub method\n"
     ]
    }
   ],
   "source": [
    "## Closures (function inside a function)\n",
    "\n",
    "def main_welcome():\n",
    "    msg = \"Welcome\"\n",
    "\n",
    "    def sub_method():\n",
    "        print(\"inside sub method\")\n",
    "\n",
    "    return sub_method()\n",
    "\n",
    "\n",
    "main_welcome()\n"
   ],
   "metadata": {
    "collapsed": false,
    "ExecuteTime": {
     "end_time": "2024-12-23T03:40:28.648127200Z",
     "start_time": "2024-12-23T03:40:28.631431500Z"
    }
   }
  },
  {
   "cell_type": "code",
   "execution_count": 4,
   "outputs": [
    {
     "name": "stdout",
     "output_type": "stream",
     "text": [
      "before call\n",
      "hello\n",
      "after call\n"
     ]
    }
   ],
   "source": [
    "## Decorator\n",
    "\n",
    "def my_decorator(func):\n",
    "    def wrapper():\n",
    "        print(\"before call\")\n",
    "        func()\n",
    "        print(\"after call\")\n",
    "\n",
    "    return wrapper\n",
    "\n",
    "\n",
    "@my_decorator\n",
    "def say_hello():\n",
    "    print(\"hello\")\n",
    "\n",
    "\n",
    "say_hello()"
   ],
   "metadata": {
    "collapsed": false,
    "ExecuteTime": {
     "end_time": "2024-12-23T04:22:02.243494200Z",
     "start_time": "2024-12-23T04:22:02.237891500Z"
    }
   }
  },
  {
   "cell_type": "code",
   "execution_count": 7,
   "outputs": [
    {
     "name": "stdout",
     "output_type": "stream",
     "text": [
      "hi\n",
      "hi\n",
      "hi\n"
     ]
    }
   ],
   "source": [
    "## Decorators with wrapper\n",
    "def repeat(n):\n",
    "    def decorator(func):\n",
    "        def wrapper(*args, **kwargs):\n",
    "            for _ in range(n):\n",
    "                func(*args, **kwargs)\n",
    "\n",
    "        return wrapper\n",
    "\n",
    "    return decorator\n",
    "\n",
    "\n",
    "@repeat(3)\n",
    "def hey():\n",
    "    print(\"hi\")\n",
    "\n",
    "\n",
    "hey()"
   ],
   "metadata": {
    "collapsed": false,
    "ExecuteTime": {
     "end_time": "2024-12-23T04:59:19.087970200Z",
     "start_time": "2024-12-23T04:59:19.083332700Z"
    }
   }
  },
  {
   "cell_type": "code",
   "execution_count": null,
   "outputs": [],
   "source": [],
   "metadata": {
    "collapsed": false
   }
  }
 ],
 "metadata": {
  "kernelspec": {
   "display_name": "Python 3",
   "language": "python",
   "name": "python3"
  },
  "language_info": {
   "codemirror_mode": {
    "name": "ipython",
    "version": 2
   },
   "file_extension": ".py",
   "mimetype": "text/x-python",
   "name": "python",
   "nbconvert_exporter": "python",
   "pygments_lexer": "ipython2",
   "version": "2.7.6"
  }
 },
 "nbformat": 4,
 "nbformat_minor": 0
}
