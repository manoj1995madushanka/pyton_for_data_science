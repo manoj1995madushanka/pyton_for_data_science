{
 "cells": [
  {
   "cell_type": "code",
   "execution_count": 1,
   "metadata": {
    "collapsed": true,
    "ExecuteTime": {
     "end_time": "2024-12-23T05:06:50.966233100Z",
     "start_time": "2024-12-23T05:06:40.150245100Z"
    }
   },
   "outputs": [
    {
     "name": "stdout",
     "output_type": "stream",
     "text": [
      "Requirement already satisfied: numpy in c:\\users\\acer\\anaconda3\\lib\\site-packages (1.26.4)\n"
     ]
    }
   ],
   "source": [
    "!pip install numpy"
   ]
  },
  {
   "cell_type": "code",
   "execution_count": 2,
   "outputs": [
    {
     "name": "stdout",
     "output_type": "stream",
     "text": [
      "<class 'numpy.ndarray'>\n",
      "[1 2 3 4]\n",
      "(4,)\n"
     ]
    }
   ],
   "source": [
    "import numpy as np\n",
    "\n",
    "## create 1D array\n",
    "arr1 = np.array([1, 2, 3, 4])\n",
    "print(type(arr1))\n",
    "print(arr1)\n",
    "print(arr1.shape)"
   ],
   "metadata": {
    "collapsed": false,
    "ExecuteTime": {
     "end_time": "2024-12-23T05:08:11.188182800Z",
     "start_time": "2024-12-23T05:08:10.631025400Z"
    }
   }
  },
  {
   "cell_type": "code",
   "execution_count": 4,
   "outputs": [
    {
     "data": {
      "text/plain": "array([[1, 2, 3, 4]])"
     },
     "execution_count": 4,
     "metadata": {},
     "output_type": "execute_result"
    }
   ],
   "source": [
    "arr2 = np.array([1, 2, 3, 4])\n",
    "arr2.reshape(1, 4)  ## 1 row 4 columns"
   ],
   "metadata": {
    "collapsed": false,
    "ExecuteTime": {
     "end_time": "2024-12-23T05:09:39.051344900Z",
     "start_time": "2024-12-23T05:09:39.039967800Z"
    }
   }
  },
  {
   "cell_type": "code",
   "execution_count": 5,
   "outputs": [
    {
     "name": "stdout",
     "output_type": "stream",
     "text": [
      "Array:\n",
      " [[1 2 3]\n",
      " [4 5 6]]\n",
      "Shape:\n",
      " (2, 3)\n",
      "Dimensions:\n",
      " 2\n",
      "Size:\n",
      " 6\n",
      "Data type:\n",
      " int32\n",
      "Item size:\n",
      " 4\n"
     ]
    }
   ],
   "source": [
    "arr = np.array([[1, 2, 3], [4, 5, 6]])\n",
    "\n",
    "print(\"Array:\\n\", arr)\n",
    "print(\"Shape:\\n\", arr.shape)\n",
    "print(\"Dimensions:\\n\", arr.ndim)\n",
    "print(\"Size:\\n\", arr.size)\n",
    "print(\"Data type:\\n\", arr.dtype)\n",
    "print(\"Item size:\\n\", arr.itemsize)"
   ],
   "metadata": {
    "collapsed": false,
    "ExecuteTime": {
     "end_time": "2024-12-23T05:17:00.070167900Z",
     "start_time": "2024-12-23T05:17:00.007251100Z"
    }
   }
  },
  {
   "cell_type": "code",
   "execution_count": 6,
   "outputs": [
    {
     "name": "stdout",
     "output_type": "stream",
     "text": [
      "Addition :  [11 22 33 44 55]\n",
      "Subtraction :  [ -9 -18 -27 -36 -45]\n",
      "Multiplication :  [ 10  40  90 160 250]\n",
      "Division :  [0.1 0.1 0.1 0.1 0.1]\n"
     ]
    }
   ],
   "source": [
    "## Vectorized operations\n",
    "arr1 = np.array([1,2,3,4,5])\n",
    "arr2=np.array([10,20,30,40,50])\n",
    "\n",
    "print(\"Addition : \",arr1+arr2)\n",
    "print(\"Subtraction : \",arr1-arr2)\n",
    "print(\"Multiplication : \",arr1*arr2)\n",
    "print(\"Division : \",arr1/arr2)"
   ],
   "metadata": {
    "collapsed": false,
    "ExecuteTime": {
     "end_time": "2024-12-23T05:20:12.682373500Z",
     "start_time": "2024-12-23T05:20:12.637315300Z"
    }
   }
  },
  {
   "cell_type": "code",
   "execution_count": 9,
   "outputs": [
    {
     "name": "stdout",
     "output_type": "stream",
     "text": [
      "[ 4  9 16 25]\n",
      "[  7.3890561   20.08553692  54.59815003 148.4131591 ]\n",
      "[ 0.90929743  0.14112001 -0.7568025  -0.95892427]\n",
      "[0.69314718 1.09861229 1.38629436 1.60943791]\n"
     ]
    }
   ],
   "source": [
    "arr = np.array([2,3,4,5])\n",
    "\n",
    "## square root\n",
    "print(np.square(arr))\n",
    "\n",
    "## exponential\n",
    "print(np.exp(arr))\n",
    "\n",
    "## sine\n",
    "print(np.sin(arr))\n",
    "\n",
    "## natural log\n",
    "print(np.log(arr))"
   ],
   "metadata": {
    "collapsed": false,
    "ExecuteTime": {
     "end_time": "2024-12-23T05:23:16.650340600Z",
     "start_time": "2024-12-23T05:23:16.645711Z"
    }
   }
  },
  {
   "cell_type": "code",
   "execution_count": 13,
   "outputs": [
    {
     "data": {
      "text/plain": "array([26,  7])"
     },
     "execution_count": 13,
     "metadata": {},
     "output_type": "execute_result"
    }
   ],
   "source": [
    "data = np.array([1,26,7,4,57])\n",
    "data[(data>5) & (data<30)]"
   ],
   "metadata": {
    "collapsed": false,
    "ExecuteTime": {
     "end_time": "2024-12-23T05:38:31.364335800Z",
     "start_time": "2024-12-23T05:38:31.353842400Z"
    }
   }
  },
  {
   "cell_type": "code",
   "execution_count": null,
   "outputs": [],
   "source": [],
   "metadata": {
    "collapsed": false
   }
  }
 ],
 "metadata": {
  "kernelspec": {
   "display_name": "Python 3",
   "language": "python",
   "name": "python3"
  },
  "language_info": {
   "codemirror_mode": {
    "name": "ipython",
    "version": 2
   },
   "file_extension": ".py",
   "mimetype": "text/x-python",
   "name": "python",
   "nbconvert_exporter": "python",
   "pygments_lexer": "ipython2",
   "version": "2.7.6"
  }
 },
 "nbformat": 4,
 "nbformat_minor": 0
}
