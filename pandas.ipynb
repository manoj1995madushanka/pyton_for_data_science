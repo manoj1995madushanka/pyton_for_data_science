{
 "cells": [
  {
   "cell_type": "code",
   "execution_count": null,
   "metadata": {
    "collapsed": true
   },
   "outputs": [],
   "source": [
    "## pandas is a powerful data manipulation library in python, widely used for data analysis and data cleaning.\n",
    "## It provides two primary data structures Series and Data frame\n",
    "## Series is a one-dimensional array like object Dataframe is two-dimensional, size mutable and potentially heterogeneous tabular data structure with labled axes (rows and columns)"
   ]
  },
  {
   "cell_type": "code",
   "execution_count": 1,
   "outputs": [
    {
     "name": "stdout",
     "output_type": "stream",
     "text": [
      "Series \n",
      " 0    1\n",
      "1    2\n",
      "2    3\n",
      "3    4\n",
      "4    5\n",
      "dtype: int64\n"
     ]
    }
   ],
   "source": [
    "import pandas as pd\n",
    "\n",
    "data = [1, 2, 3, 4, 5]\n",
    "series = pd.Series(data)\n",
    "print(type(series))\n",
    "print(\"Series \\n\", series)"
   ],
   "metadata": {
    "collapsed": false,
    "ExecuteTime": {
     "end_time": "2024-12-23T11:54:11.613615900Z",
     "start_time": "2024-12-23T11:54:10.233697300Z"
    }
   }
  },
  {
   "cell_type": "code",
   "execution_count": 2,
   "outputs": [
    {
     "name": "stdout",
     "output_type": "stream",
     "text": [
      "a    1\n",
      "b    2\n",
      "c    3\n",
      "dtype: int64\n"
     ]
    }
   ],
   "source": [
    "data = {'a':1,'b':2,'c':3}\n",
    "series_dict = pd.Series(data)\n",
    "print(series_dict)"
   ],
   "metadata": {
    "collapsed": false,
    "ExecuteTime": {
     "end_time": "2024-12-23T11:55:53.913675900Z",
     "start_time": "2024-12-23T11:55:53.898109600Z"
    }
   }
  },
  {
   "cell_type": "code",
   "execution_count": 4,
   "outputs": [
    {
     "data": {
      "text/plain": "a    10\nb    20\nc    30\ndtype: int64"
     },
     "execution_count": 4,
     "metadata": {},
     "output_type": "execute_result"
    }
   ],
   "source": [
    "data = [10,20,30]\n",
    "index=['a','b','c']\n",
    "pd.Series(data, index)\n"
   ],
   "metadata": {
    "collapsed": false,
    "ExecuteTime": {
     "end_time": "2024-12-23T11:57:44.176739700Z",
     "start_time": "2024-12-23T11:57:44.169314300Z"
    }
   }
  },
  {
   "cell_type": "code",
   "execution_count": 5,
   "outputs": [
    {
     "name": "stdout",
     "output_type": "stream",
     "text": [
      "    name  Age     City\n",
      "0  Krish   10    Galle\n",
      "1   John   23    Talpe\n",
      "2   Jack   45  Heenati\n"
     ]
    }
   ],
   "source": [
    "# Dataframe\n",
    "data = {\n",
    "    'name':['Krish','John','Jack'],\n",
    "    'Age':[10,23,45],\n",
    "    'City':['Galle','Talpe','Heenati']\n",
    "}\n",
    "\n",
    "df = pd.DataFrame(data)\n",
    "print(df)"
   ],
   "metadata": {
    "collapsed": false,
    "ExecuteTime": {
     "end_time": "2024-12-23T15:09:35.663406900Z",
     "start_time": "2024-12-23T15:09:35.629638700Z"
    }
   }
  },
  {
   "cell_type": "code",
   "execution_count": 13,
   "outputs": [
    {
     "name": "stdout",
     "output_type": "stream",
     "text": [
      "     name  age   city\n",
      "0   Krish   20  Galle\n",
      "1  Krish1   40   Dlle\n",
      "2  Krish2   30   Ddsd\n",
      "name    Krish\n",
      "age        20\n",
      "city    Galle\n",
      "Name: 0, dtype: object\n",
      "0     Krish\n",
      "1    Krish1\n",
      "2    Krish2\n",
      "Name: name, dtype: object\n"
     ]
    },
    {
     "data": {
      "text/plain": "     name  age   city\n0   Krish   20  Galle\n1  Krish1   40   Dlle\n2  Krish2   30   Ddsd",
      "text/html": "<div>\n<style scoped>\n    .dataframe tbody tr th:only-of-type {\n        vertical-align: middle;\n    }\n\n    .dataframe tbody tr th {\n        vertical-align: top;\n    }\n\n    .dataframe thead th {\n        text-align: right;\n    }\n</style>\n<table border=\"1\" class=\"dataframe\">\n  <thead>\n    <tr style=\"text-align: right;\">\n      <th></th>\n      <th>name</th>\n      <th>age</th>\n      <th>city</th>\n    </tr>\n  </thead>\n  <tbody>\n    <tr>\n      <th>0</th>\n      <td>Krish</td>\n      <td>20</td>\n      <td>Galle</td>\n    </tr>\n    <tr>\n      <th>1</th>\n      <td>Krish1</td>\n      <td>40</td>\n      <td>Dlle</td>\n    </tr>\n    <tr>\n      <th>2</th>\n      <td>Krish2</td>\n      <td>30</td>\n      <td>Ddsd</td>\n    </tr>\n  </tbody>\n</table>\n</div>"
     },
     "execution_count": 13,
     "metadata": {},
     "output_type": "execute_result"
    }
   ],
   "source": [
    "# create dataframe from list of dictionaries\n",
    "data = [\n",
    "    {'name':'Krish','age':20,'city':'Galle'},\n",
    "    {'name':'Krish1','age':40,'city':'Dlle'},\n",
    "    {'name':'Krish2','age':30,'city':'Ddsd'}\n",
    "]\n",
    "\n",
    "df = pd.DataFrame(data)\n",
    "print(df)\n",
    "print(df.loc[0]) # get row\n",
    "print(df['name']) # get column\n",
    "\n",
    "\n",
    "## Adding column\n",
    "df['Salary']=[1000,23000,2000]\n",
    "df\n",
    "\n",
    "## remove column , this is not permanent\n",
    "df.drop('Salary',axis=1)\n",
    "df\n",
    "\n",
    "## remove column , this is permanent\n",
    "df.drop('Salary',axis=1,inplace=True)\n",
    "df"
   ],
   "metadata": {
    "collapsed": false,
    "ExecuteTime": {
     "end_time": "2024-12-23T15:25:43.408271400Z",
     "start_time": "2024-12-23T15:25:43.400740Z"
    }
   }
  },
  {
   "cell_type": "code",
   "execution_count": null,
   "outputs": [],
   "source": [],
   "metadata": {
    "collapsed": false
   }
  }
 ],
 "metadata": {
  "kernelspec": {
   "display_name": "Python 3",
   "language": "python",
   "name": "python3"
  },
  "language_info": {
   "codemirror_mode": {
    "name": "ipython",
    "version": 2
   },
   "file_extension": ".py",
   "mimetype": "text/x-python",
   "name": "python",
   "nbconvert_exporter": "python",
   "pygments_lexer": "ipython2",
   "version": "2.7.6"
  }
 },
 "nbformat": 4,
 "nbformat_minor": 0
}
