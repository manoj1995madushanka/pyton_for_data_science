{
 "cells": [
  {
   "cell_type": "code",
   "execution_count": 1,
   "metadata": {
    "collapsed": true,
    "ExecuteTime": {
     "end_time": "2025-01-13T04:07:04.342587400Z",
     "start_time": "2025-01-13T04:07:04.330634600Z"
    }
   },
   "outputs": [],
   "source": [
    "import sqlite3"
   ]
  },
  {
   "cell_type": "code",
   "execution_count": 3,
   "outputs": [
    {
     "data": {
      "text/plain": "<sqlite3.Connection at 0x19e932b6f20>"
     },
     "execution_count": 3,
     "metadata": {},
     "output_type": "execute_result"
    }
   ],
   "source": [
    "# connect to sqlite\n",
    "connection = sqlite3.connect('example.db')\n",
    "connection"
   ],
   "metadata": {
    "collapsed": false,
    "ExecuteTime": {
     "end_time": "2025-01-13T04:19:07.519146200Z",
     "start_time": "2025-01-13T04:19:07.510264500Z"
    }
   }
  },
  {
   "cell_type": "code",
   "execution_count": 4,
   "outputs": [],
   "source": [
    "cursor = connection.cursor()"
   ],
   "metadata": {
    "collapsed": false,
    "ExecuteTime": {
     "end_time": "2025-01-13T04:19:45.177146900Z",
     "start_time": "2025-01-13T04:19:45.151971700Z"
    }
   }
  },
  {
   "cell_type": "code",
   "execution_count": 6,
   "outputs": [],
   "source": [
    "# create table\n",
    "cursor.execute(\n",
    "    '''\n",
    "    Create Table If Not Exists employees(\n",
    "        id Integer Primary Key,\n",
    "        name Text Not Null,\n",
    "        age Integer,\n",
    "        department Text\n",
    "    )\n",
    "    '''\n",
    ")\n",
    "\n",
    "# commit the changes\n",
    "connection.commit()"
   ],
   "metadata": {
    "collapsed": false,
    "ExecuteTime": {
     "end_time": "2025-01-13T04:20:21.967251300Z",
     "start_time": "2025-01-13T04:20:21.955120800Z"
    }
   }
  },
  {
   "cell_type": "code",
   "execution_count": 7,
   "outputs": [
    {
     "data": {
      "text/plain": "<sqlite3.Cursor at 0x19e932a9b40>"
     },
     "execution_count": 7,
     "metadata": {},
     "output_type": "execute_result"
    }
   ],
   "source": [
    "cursor.execute(\n",
    "    '''\n",
    "        Select * from employees\n",
    "    '''\n",
    ")"
   ],
   "metadata": {
    "collapsed": false,
    "ExecuteTime": {
     "end_time": "2025-01-13T04:20:43.201493400Z",
     "start_time": "2025-01-13T04:20:43.181654400Z"
    }
   }
  },
  {
   "cell_type": "code",
   "execution_count": 9,
   "outputs": [],
   "source": [
    "# insert data\n",
    "cursor.execute(\n",
    "    '''\n",
    "        Insert Into employees (name,age,department)\n",
    "        values('Manoj',29,'Data Scientist')\n",
    "    '''\n",
    ")\n",
    "\n",
    "cursor.execute(\n",
    "    '''\n",
    "        Insert Into employees (name,age,department)\n",
    "        values('Nadee',29,'Doctor')\n",
    "    '''\n",
    ")\n",
    "\n",
    "connection.commit()"
   ],
   "metadata": {
    "collapsed": false,
    "ExecuteTime": {
     "end_time": "2025-01-13T04:24:41.572279800Z",
     "start_time": "2025-01-13T04:24:41.552695300Z"
    }
   }
  },
  {
   "cell_type": "code",
   "execution_count": null,
   "outputs": [],
   "source": [
    "# Insert many data\n",
    "employeeList = [\n",
    "    ('Kamal',23,'Player'),\n",
    "    ('Mohammed',34,'Star')\n",
    "]\n",
    "\n",
    "cursor.executemany(\n",
    "    '''\n",
    "        Insert into employees (name,age,department) values (?,?,?)\n",
    "    ''', employeeList\n",
    ")\n",
    "\n",
    "connection.commit()"
   ],
   "metadata": {
    "collapsed": false
   }
  },
  {
   "cell_type": "code",
   "execution_count": 15,
   "outputs": [
    {
     "name": "stdout",
     "output_type": "stream",
     "text": [
      "(2, 'Nadee', 29, 'Doctor')\n",
      "(3, 'Manoj', 34, 'Data Scientist')\n",
      "(4, 'Nadee', 29, 'Doctor')\n"
     ]
    }
   ],
   "source": [
    "# query data\n",
    "cursor.execute('Select * from employees')\n",
    "rows=cursor.fetchall()\n",
    "\n",
    "for row in rows:\n",
    "    print(row)"
   ],
   "metadata": {
    "collapsed": false,
    "ExecuteTime": {
     "end_time": "2025-01-13T04:29:38.638672800Z",
     "start_time": "2025-01-13T04:29:38.632804600Z"
    }
   }
  },
  {
   "cell_type": "code",
   "execution_count": 11,
   "outputs": [],
   "source": [
    "# update data\n",
    "cursor.execute(\n",
    "    '''\n",
    "        UPDATE employees Set age =34\n",
    "        where name=\"Manoj\"\n",
    "    '''\n",
    ")\n",
    "\n",
    "connection.commit()"
   ],
   "metadata": {
    "collapsed": false,
    "ExecuteTime": {
     "end_time": "2025-01-13T04:28:01.033598100Z",
     "start_time": "2025-01-13T04:28:01.002998100Z"
    }
   }
  },
  {
   "cell_type": "code",
   "execution_count": 14,
   "outputs": [],
   "source": [
    "# Delete data\n",
    "cursor.execute(\n",
    "    '''\n",
    "        Delete from employees\n",
    "        WHERE id=1\n",
    "    '''\n",
    ")\n",
    "\n",
    "connection.commit()"
   ],
   "metadata": {
    "collapsed": false,
    "ExecuteTime": {
     "end_time": "2025-01-13T04:29:33.659093200Z",
     "start_time": "2025-01-13T04:29:33.649472400Z"
    }
   }
  },
  {
   "cell_type": "code",
   "execution_count": 16,
   "outputs": [],
   "source": [
    "connection.close()"
   ],
   "metadata": {
    "collapsed": false,
    "ExecuteTime": {
     "end_time": "2025-01-13T04:31:56.035202400Z",
     "start_time": "2025-01-13T04:31:56.010213800Z"
    }
   }
  },
  {
   "cell_type": "code",
   "execution_count": null,
   "outputs": [],
   "source": [],
   "metadata": {
    "collapsed": false
   }
  }
 ],
 "metadata": {
  "kernelspec": {
   "display_name": "Python 3",
   "language": "python",
   "name": "python3"
  },
  "language_info": {
   "codemirror_mode": {
    "name": "ipython",
    "version": 2
   },
   "file_extension": ".py",
   "mimetype": "text/x-python",
   "name": "python",
   "nbconvert_exporter": "python",
   "pygments_lexer": "ipython2",
   "version": "2.7.6"
  }
 },
 "nbformat": 4,
 "nbformat_minor": 0
}
