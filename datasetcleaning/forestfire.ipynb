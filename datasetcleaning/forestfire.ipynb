{
 "cells": [
  {
   "cell_type": "code",
   "execution_count": 1,
   "metadata": {
    "collapsed": true,
    "ExecuteTime": {
     "end_time": "2025-05-18T05:53:57.491525500Z",
     "start_time": "2025-05-18T05:53:57.434242600Z"
    }
   },
   "outputs": [],
   "source": [
    "import numpy as np\n",
    "import pandas as pd\n",
    "import matplotlib.pyplot as plt\n",
    "import seaborn as sns\n",
    "%matplotlib inline"
   ]
  },
  {
   "cell_type": "code",
   "execution_count": 2,
   "outputs": [],
   "source": [
    "dataset = pd.read_csv('Algerian_forest_fires_dataset_UPDATE.csv', header=1)"
   ],
   "metadata": {
    "collapsed": false,
    "ExecuteTime": {
     "end_time": "2025-05-18T05:56:47.586763200Z",
     "start_time": "2025-05-18T05:56:47.490980900Z"
    }
   }
  },
  {
   "cell_type": "code",
   "execution_count": 3,
   "outputs": [
    {
     "data": {
      "text/plain": "  day month  year Temperature  RH  Ws Rain   FFMC  DMC    DC  ISI  BUI  FWI  \\\n0  01    06  2012          29  57  18     0  65.7  3.4   7.6  1.3  3.4  0.5   \n1  02    06  2012          29  61  13   1.3  64.4  4.1   7.6    1  3.9  0.4   \n2  03    06  2012          26  82  22  13.1  47.1  2.5   7.1  0.3  2.7  0.1   \n3  04    06  2012          25  89  13   2.5  28.6  1.3   6.9    0  1.7    0   \n4  05    06  2012          27  77  16     0  64.8    3  14.2  1.2  3.9  0.5   \n\n     Classes    \n0  not fire     \n1  not fire     \n2  not fire     \n3  not fire     \n4  not fire     ",
      "text/html": "<div>\n<style scoped>\n    .dataframe tbody tr th:only-of-type {\n        vertical-align: middle;\n    }\n\n    .dataframe tbody tr th {\n        vertical-align: top;\n    }\n\n    .dataframe thead th {\n        text-align: right;\n    }\n</style>\n<table border=\"1\" class=\"dataframe\">\n  <thead>\n    <tr style=\"text-align: right;\">\n      <th></th>\n      <th>day</th>\n      <th>month</th>\n      <th>year</th>\n      <th>Temperature</th>\n      <th>RH</th>\n      <th>Ws</th>\n      <th>Rain</th>\n      <th>FFMC</th>\n      <th>DMC</th>\n      <th>DC</th>\n      <th>ISI</th>\n      <th>BUI</th>\n      <th>FWI</th>\n      <th>Classes</th>\n    </tr>\n  </thead>\n  <tbody>\n    <tr>\n      <th>0</th>\n      <td>01</td>\n      <td>06</td>\n      <td>2012</td>\n      <td>29</td>\n      <td>57</td>\n      <td>18</td>\n      <td>0</td>\n      <td>65.7</td>\n      <td>3.4</td>\n      <td>7.6</td>\n      <td>1.3</td>\n      <td>3.4</td>\n      <td>0.5</td>\n      <td>not fire</td>\n    </tr>\n    <tr>\n      <th>1</th>\n      <td>02</td>\n      <td>06</td>\n      <td>2012</td>\n      <td>29</td>\n      <td>61</td>\n      <td>13</td>\n      <td>1.3</td>\n      <td>64.4</td>\n      <td>4.1</td>\n      <td>7.6</td>\n      <td>1</td>\n      <td>3.9</td>\n      <td>0.4</td>\n      <td>not fire</td>\n    </tr>\n    <tr>\n      <th>2</th>\n      <td>03</td>\n      <td>06</td>\n      <td>2012</td>\n      <td>26</td>\n      <td>82</td>\n      <td>22</td>\n      <td>13.1</td>\n      <td>47.1</td>\n      <td>2.5</td>\n      <td>7.1</td>\n      <td>0.3</td>\n      <td>2.7</td>\n      <td>0.1</td>\n      <td>not fire</td>\n    </tr>\n    <tr>\n      <th>3</th>\n      <td>04</td>\n      <td>06</td>\n      <td>2012</td>\n      <td>25</td>\n      <td>89</td>\n      <td>13</td>\n      <td>2.5</td>\n      <td>28.6</td>\n      <td>1.3</td>\n      <td>6.9</td>\n      <td>0</td>\n      <td>1.7</td>\n      <td>0</td>\n      <td>not fire</td>\n    </tr>\n    <tr>\n      <th>4</th>\n      <td>05</td>\n      <td>06</td>\n      <td>2012</td>\n      <td>27</td>\n      <td>77</td>\n      <td>16</td>\n      <td>0</td>\n      <td>64.8</td>\n      <td>3</td>\n      <td>14.2</td>\n      <td>1.2</td>\n      <td>3.9</td>\n      <td>0.5</td>\n      <td>not fire</td>\n    </tr>\n  </tbody>\n</table>\n</div>"
     },
     "execution_count": 3,
     "metadata": {},
     "output_type": "execute_result"
    }
   ],
   "source": [
    "dataset.head()"
   ],
   "metadata": {
    "collapsed": false,
    "ExecuteTime": {
     "end_time": "2025-05-18T05:56:51.857053600Z",
     "start_time": "2025-05-18T05:56:51.782883500Z"
    }
   }
  },
  {
   "cell_type": "code",
   "execution_count": 4,
   "outputs": [
    {
     "name": "stdout",
     "output_type": "stream",
     "text": [
      "<class 'pandas.core.frame.DataFrame'>\n",
      "RangeIndex: 246 entries, 0 to 245\n",
      "Data columns (total 14 columns):\n",
      " #   Column       Non-Null Count  Dtype \n",
      "---  ------       --------------  ----- \n",
      " 0   day          246 non-null    object\n",
      " 1   month        245 non-null    object\n",
      " 2   year         245 non-null    object\n",
      " 3   Temperature  245 non-null    object\n",
      " 4    RH          245 non-null    object\n",
      " 5    Ws          245 non-null    object\n",
      " 6   Rain         245 non-null    object\n",
      " 7   FFMC         245 non-null    object\n",
      " 8   DMC          245 non-null    object\n",
      " 9   DC           245 non-null    object\n",
      " 10  ISI          245 non-null    object\n",
      " 11  BUI          245 non-null    object\n",
      " 12  FWI          245 non-null    object\n",
      " 13  Classes      244 non-null    object\n",
      "dtypes: object(14)\n",
      "memory usage: 27.0+ KB\n"
     ]
    }
   ],
   "source": [
    "dataset.info()"
   ],
   "metadata": {
    "collapsed": false,
    "ExecuteTime": {
     "end_time": "2025-05-18T05:56:58.227367600Z",
     "start_time": "2025-05-18T05:56:58.115815400Z"
    }
   }
  },
  {
   "cell_type": "markdown",
   "source": [
    "# Start Data Cleaning"
   ],
   "metadata": {
    "collapsed": false
   }
  },
  {
   "cell_type": "code",
   "execution_count": 5,
   "outputs": [
    {
     "data": {
      "text/plain": "                               day month  year Temperature   RH   Ws Rain   \\\n122  Sidi-Bel Abbes Region Dataset   NaN   NaN         NaN  NaN  NaN   NaN   \n167                             14    07  2012          37   37   18   0.2   \n\n     FFMC   DMC      DC   ISI   BUI      FWI Classes    \n122   NaN   NaN     NaN   NaN   NaN      NaN       NaN  \n167  88.9  12.9  14.6 9  12.5  10.4  fire          NaN  ",
      "text/html": "<div>\n<style scoped>\n    .dataframe tbody tr th:only-of-type {\n        vertical-align: middle;\n    }\n\n    .dataframe tbody tr th {\n        vertical-align: top;\n    }\n\n    .dataframe thead th {\n        text-align: right;\n    }\n</style>\n<table border=\"1\" class=\"dataframe\">\n  <thead>\n    <tr style=\"text-align: right;\">\n      <th></th>\n      <th>day</th>\n      <th>month</th>\n      <th>year</th>\n      <th>Temperature</th>\n      <th>RH</th>\n      <th>Ws</th>\n      <th>Rain</th>\n      <th>FFMC</th>\n      <th>DMC</th>\n      <th>DC</th>\n      <th>ISI</th>\n      <th>BUI</th>\n      <th>FWI</th>\n      <th>Classes</th>\n    </tr>\n  </thead>\n  <tbody>\n    <tr>\n      <th>122</th>\n      <td>Sidi-Bel Abbes Region Dataset</td>\n      <td>NaN</td>\n      <td>NaN</td>\n      <td>NaN</td>\n      <td>NaN</td>\n      <td>NaN</td>\n      <td>NaN</td>\n      <td>NaN</td>\n      <td>NaN</td>\n      <td>NaN</td>\n      <td>NaN</td>\n      <td>NaN</td>\n      <td>NaN</td>\n      <td>NaN</td>\n    </tr>\n    <tr>\n      <th>167</th>\n      <td>14</td>\n      <td>07</td>\n      <td>2012</td>\n      <td>37</td>\n      <td>37</td>\n      <td>18</td>\n      <td>0.2</td>\n      <td>88.9</td>\n      <td>12.9</td>\n      <td>14.6 9</td>\n      <td>12.5</td>\n      <td>10.4</td>\n      <td>fire</td>\n      <td>NaN</td>\n    </tr>\n  </tbody>\n</table>\n</div>"
     },
     "execution_count": 5,
     "metadata": {},
     "output_type": "execute_result"
    }
   ],
   "source": [
    "dataset[dataset.isnull().any(axis=1)]"
   ],
   "metadata": {
    "collapsed": false,
    "ExecuteTime": {
     "end_time": "2025-05-18T05:57:11.979416900Z",
     "start_time": "2025-05-18T05:57:11.895100700Z"
    }
   }
  },
  {
   "cell_type": "markdown",
   "source": [
    "The dataset is converted into two sets based on region from 122th index,\n",
    "we can make a new column based on the region\n",
    "\n",
    "1: Bejaia Region Dataset\n",
    "2: Sidi-Bel Abbes Region Dataset\n",
    "\n",
    "Add new column with region"
   ],
   "metadata": {
    "collapsed": false
   }
  },
  {
   "cell_type": "code",
   "execution_count": 6,
   "outputs": [],
   "source": [
    "dataset.loc[:122,\"Region\"]=0\n",
    "dataset.loc[122:,\"Region\"]=1\n",
    "df=dataset"
   ],
   "metadata": {
    "collapsed": false,
    "ExecuteTime": {
     "end_time": "2025-05-18T05:57:58.930004300Z",
     "start_time": "2025-05-18T05:57:58.886630100Z"
    }
   }
  },
  {
   "cell_type": "code",
   "execution_count": 7,
   "outputs": [
    {
     "name": "stdout",
     "output_type": "stream",
     "text": [
      "<class 'pandas.core.frame.DataFrame'>\n",
      "RangeIndex: 246 entries, 0 to 245\n",
      "Data columns (total 15 columns):\n",
      " #   Column       Non-Null Count  Dtype  \n",
      "---  ------       --------------  -----  \n",
      " 0   day          246 non-null    object \n",
      " 1   month        245 non-null    object \n",
      " 2   year         245 non-null    object \n",
      " 3   Temperature  245 non-null    object \n",
      " 4    RH          245 non-null    object \n",
      " 5    Ws          245 non-null    object \n",
      " 6   Rain         245 non-null    object \n",
      " 7   FFMC         245 non-null    object \n",
      " 8   DMC          245 non-null    object \n",
      " 9   DC           245 non-null    object \n",
      " 10  ISI          245 non-null    object \n",
      " 11  BUI          245 non-null    object \n",
      " 12  FWI          245 non-null    object \n",
      " 13  Classes      244 non-null    object \n",
      " 14  Region       246 non-null    float64\n",
      "dtypes: float64(1), object(14)\n",
      "memory usage: 29.0+ KB\n"
     ]
    }
   ],
   "source": [
    "df.info()"
   ],
   "metadata": {
    "collapsed": false,
    "ExecuteTime": {
     "end_time": "2025-05-18T05:58:04.782518400Z",
     "start_time": "2025-05-18T05:58:04.765782800Z"
    }
   }
  },
  {
   "cell_type": "code",
   "execution_count": 8,
   "outputs": [],
   "source": [
    "df[['Region']]=df[['Region']].astype(int)"
   ],
   "metadata": {
    "collapsed": false,
    "ExecuteTime": {
     "end_time": "2025-05-18T05:58:10.422845400Z",
     "start_time": "2025-05-18T05:58:10.401168200Z"
    }
   }
  },
  {
   "cell_type": "code",
   "execution_count": 9,
   "outputs": [
    {
     "data": {
      "text/plain": "  day month  year Temperature  RH  Ws Rain   FFMC  DMC    DC  ISI  BUI  FWI  \\\n0  01    06  2012          29  57  18     0  65.7  3.4   7.6  1.3  3.4  0.5   \n1  02    06  2012          29  61  13   1.3  64.4  4.1   7.6    1  3.9  0.4   \n2  03    06  2012          26  82  22  13.1  47.1  2.5   7.1  0.3  2.7  0.1   \n3  04    06  2012          25  89  13   2.5  28.6  1.3   6.9    0  1.7    0   \n4  05    06  2012          27  77  16     0  64.8    3  14.2  1.2  3.9  0.5   \n\n     Classes    Region  \n0  not fire          0  \n1  not fire          0  \n2  not fire          0  \n3  not fire          0  \n4  not fire          0  ",
      "text/html": "<div>\n<style scoped>\n    .dataframe tbody tr th:only-of-type {\n        vertical-align: middle;\n    }\n\n    .dataframe tbody tr th {\n        vertical-align: top;\n    }\n\n    .dataframe thead th {\n        text-align: right;\n    }\n</style>\n<table border=\"1\" class=\"dataframe\">\n  <thead>\n    <tr style=\"text-align: right;\">\n      <th></th>\n      <th>day</th>\n      <th>month</th>\n      <th>year</th>\n      <th>Temperature</th>\n      <th>RH</th>\n      <th>Ws</th>\n      <th>Rain</th>\n      <th>FFMC</th>\n      <th>DMC</th>\n      <th>DC</th>\n      <th>ISI</th>\n      <th>BUI</th>\n      <th>FWI</th>\n      <th>Classes</th>\n      <th>Region</th>\n    </tr>\n  </thead>\n  <tbody>\n    <tr>\n      <th>0</th>\n      <td>01</td>\n      <td>06</td>\n      <td>2012</td>\n      <td>29</td>\n      <td>57</td>\n      <td>18</td>\n      <td>0</td>\n      <td>65.7</td>\n      <td>3.4</td>\n      <td>7.6</td>\n      <td>1.3</td>\n      <td>3.4</td>\n      <td>0.5</td>\n      <td>not fire</td>\n      <td>0</td>\n    </tr>\n    <tr>\n      <th>1</th>\n      <td>02</td>\n      <td>06</td>\n      <td>2012</td>\n      <td>29</td>\n      <td>61</td>\n      <td>13</td>\n      <td>1.3</td>\n      <td>64.4</td>\n      <td>4.1</td>\n      <td>7.6</td>\n      <td>1</td>\n      <td>3.9</td>\n      <td>0.4</td>\n      <td>not fire</td>\n      <td>0</td>\n    </tr>\n    <tr>\n      <th>2</th>\n      <td>03</td>\n      <td>06</td>\n      <td>2012</td>\n      <td>26</td>\n      <td>82</td>\n      <td>22</td>\n      <td>13.1</td>\n      <td>47.1</td>\n      <td>2.5</td>\n      <td>7.1</td>\n      <td>0.3</td>\n      <td>2.7</td>\n      <td>0.1</td>\n      <td>not fire</td>\n      <td>0</td>\n    </tr>\n    <tr>\n      <th>3</th>\n      <td>04</td>\n      <td>06</td>\n      <td>2012</td>\n      <td>25</td>\n      <td>89</td>\n      <td>13</td>\n      <td>2.5</td>\n      <td>28.6</td>\n      <td>1.3</td>\n      <td>6.9</td>\n      <td>0</td>\n      <td>1.7</td>\n      <td>0</td>\n      <td>not fire</td>\n      <td>0</td>\n    </tr>\n    <tr>\n      <th>4</th>\n      <td>05</td>\n      <td>06</td>\n      <td>2012</td>\n      <td>27</td>\n      <td>77</td>\n      <td>16</td>\n      <td>0</td>\n      <td>64.8</td>\n      <td>3</td>\n      <td>14.2</td>\n      <td>1.2</td>\n      <td>3.9</td>\n      <td>0.5</td>\n      <td>not fire</td>\n      <td>0</td>\n    </tr>\n  </tbody>\n</table>\n</div>"
     },
     "execution_count": 9,
     "metadata": {},
     "output_type": "execute_result"
    }
   ],
   "source": [
    "df.head()"
   ],
   "metadata": {
    "collapsed": false,
    "ExecuteTime": {
     "end_time": "2025-05-18T05:58:12.176621900Z",
     "start_time": "2025-05-18T05:58:12.111143700Z"
    }
   }
  },
  {
   "cell_type": "code",
   "execution_count": 10,
   "outputs": [
    {
     "data": {
      "text/plain": "day            0\nmonth          1\nyear           1\nTemperature    1\n RH            1\n Ws            1\nRain           1\nFFMC           1\nDMC            1\nDC             1\nISI            1\nBUI            1\nFWI            1\nClasses        2\nRegion         0\ndtype: int64"
     },
     "execution_count": 10,
     "metadata": {},
     "output_type": "execute_result"
    }
   ],
   "source": [
    "df.isnull().sum()"
   ],
   "metadata": {
    "collapsed": false,
    "ExecuteTime": {
     "end_time": "2025-05-18T05:58:15.950630900Z",
     "start_time": "2025-05-18T05:58:15.930035100Z"
    }
   }
  },
  {
   "cell_type": "code",
   "execution_count": 11,
   "outputs": [],
   "source": [
    "# remove the null values\n",
    "df = df.dropna().reset_index()"
   ],
   "metadata": {
    "collapsed": false,
    "ExecuteTime": {
     "end_time": "2025-05-18T06:00:07.762155400Z",
     "start_time": "2025-05-18T06:00:07.711074400Z"
    }
   }
  },
  {
   "cell_type": "code",
   "execution_count": 12,
   "outputs": [
    {
     "data": {
      "text/plain": "   index day month  year Temperature  RH  Ws Rain   FFMC  DMC    DC  ISI  BUI  \\\n0      0  01    06  2012          29  57  18     0  65.7  3.4   7.6  1.3  3.4   \n1      1  02    06  2012          29  61  13   1.3  64.4  4.1   7.6    1  3.9   \n2      2  03    06  2012          26  82  22  13.1  47.1  2.5   7.1  0.3  2.7   \n3      3  04    06  2012          25  89  13   2.5  28.6  1.3   6.9    0  1.7   \n4      4  05    06  2012          27  77  16     0  64.8    3  14.2  1.2  3.9   \n\n   FWI    Classes    Region  \n0  0.5  not fire          0  \n1  0.4  not fire          0  \n2  0.1  not fire          0  \n3    0  not fire          0  \n4  0.5  not fire          0  ",
      "text/html": "<div>\n<style scoped>\n    .dataframe tbody tr th:only-of-type {\n        vertical-align: middle;\n    }\n\n    .dataframe tbody tr th {\n        vertical-align: top;\n    }\n\n    .dataframe thead th {\n        text-align: right;\n    }\n</style>\n<table border=\"1\" class=\"dataframe\">\n  <thead>\n    <tr style=\"text-align: right;\">\n      <th></th>\n      <th>index</th>\n      <th>day</th>\n      <th>month</th>\n      <th>year</th>\n      <th>Temperature</th>\n      <th>RH</th>\n      <th>Ws</th>\n      <th>Rain</th>\n      <th>FFMC</th>\n      <th>DMC</th>\n      <th>DC</th>\n      <th>ISI</th>\n      <th>BUI</th>\n      <th>FWI</th>\n      <th>Classes</th>\n      <th>Region</th>\n    </tr>\n  </thead>\n  <tbody>\n    <tr>\n      <th>0</th>\n      <td>0</td>\n      <td>01</td>\n      <td>06</td>\n      <td>2012</td>\n      <td>29</td>\n      <td>57</td>\n      <td>18</td>\n      <td>0</td>\n      <td>65.7</td>\n      <td>3.4</td>\n      <td>7.6</td>\n      <td>1.3</td>\n      <td>3.4</td>\n      <td>0.5</td>\n      <td>not fire</td>\n      <td>0</td>\n    </tr>\n    <tr>\n      <th>1</th>\n      <td>1</td>\n      <td>02</td>\n      <td>06</td>\n      <td>2012</td>\n      <td>29</td>\n      <td>61</td>\n      <td>13</td>\n      <td>1.3</td>\n      <td>64.4</td>\n      <td>4.1</td>\n      <td>7.6</td>\n      <td>1</td>\n      <td>3.9</td>\n      <td>0.4</td>\n      <td>not fire</td>\n      <td>0</td>\n    </tr>\n    <tr>\n      <th>2</th>\n      <td>2</td>\n      <td>03</td>\n      <td>06</td>\n      <td>2012</td>\n      <td>26</td>\n      <td>82</td>\n      <td>22</td>\n      <td>13.1</td>\n      <td>47.1</td>\n      <td>2.5</td>\n      <td>7.1</td>\n      <td>0.3</td>\n      <td>2.7</td>\n      <td>0.1</td>\n      <td>not fire</td>\n      <td>0</td>\n    </tr>\n    <tr>\n      <th>3</th>\n      <td>3</td>\n      <td>04</td>\n      <td>06</td>\n      <td>2012</td>\n      <td>25</td>\n      <td>89</td>\n      <td>13</td>\n      <td>2.5</td>\n      <td>28.6</td>\n      <td>1.3</td>\n      <td>6.9</td>\n      <td>0</td>\n      <td>1.7</td>\n      <td>0</td>\n      <td>not fire</td>\n      <td>0</td>\n    </tr>\n    <tr>\n      <th>4</th>\n      <td>4</td>\n      <td>05</td>\n      <td>06</td>\n      <td>2012</td>\n      <td>27</td>\n      <td>77</td>\n      <td>16</td>\n      <td>0</td>\n      <td>64.8</td>\n      <td>3</td>\n      <td>14.2</td>\n      <td>1.2</td>\n      <td>3.9</td>\n      <td>0.5</td>\n      <td>not fire</td>\n      <td>0</td>\n    </tr>\n  </tbody>\n</table>\n</div>"
     },
     "execution_count": 12,
     "metadata": {},
     "output_type": "execute_result"
    }
   ],
   "source": [
    "df.head()"
   ],
   "metadata": {
    "collapsed": false,
    "ExecuteTime": {
     "end_time": "2025-05-18T06:00:17.103325Z",
     "start_time": "2025-05-18T06:00:17.045576100Z"
    }
   }
  },
  {
   "cell_type": "code",
   "execution_count": 13,
   "outputs": [
    {
     "data": {
      "text/plain": "index          0\nday            0\nmonth          0\nyear           0\nTemperature    0\n RH            0\n Ws            0\nRain           0\nFFMC           0\nDMC            0\nDC             0\nISI            0\nBUI            0\nFWI            0\nClasses        0\nRegion         0\ndtype: int64"
     },
     "execution_count": 13,
     "metadata": {},
     "output_type": "execute_result"
    }
   ],
   "source": [
    "df.isnull().sum()"
   ],
   "metadata": {
    "collapsed": false,
    "ExecuteTime": {
     "end_time": "2025-05-18T06:00:36.090532200Z",
     "start_time": "2025-05-18T06:00:35.997042600Z"
    }
   }
  },
  {
   "cell_type": "code",
   "execution_count": 14,
   "outputs": [
    {
     "data": {
      "text/plain": "     index  day  month  year  Temperature   RH   Ws  Rain   FFMC  DMC  DC  \\\n122    123  day  month  year  Temperature   RH   Ws  Rain   FFMC  DMC  DC   \n\n     ISI  BUI  FWI  Classes    Region  \n122  ISI  BUI  FWI  Classes         1  ",
      "text/html": "<div>\n<style scoped>\n    .dataframe tbody tr th:only-of-type {\n        vertical-align: middle;\n    }\n\n    .dataframe tbody tr th {\n        vertical-align: top;\n    }\n\n    .dataframe thead th {\n        text-align: right;\n    }\n</style>\n<table border=\"1\" class=\"dataframe\">\n  <thead>\n    <tr style=\"text-align: right;\">\n      <th></th>\n      <th>index</th>\n      <th>day</th>\n      <th>month</th>\n      <th>year</th>\n      <th>Temperature</th>\n      <th>RH</th>\n      <th>Ws</th>\n      <th>Rain</th>\n      <th>FFMC</th>\n      <th>DMC</th>\n      <th>DC</th>\n      <th>ISI</th>\n      <th>BUI</th>\n      <th>FWI</th>\n      <th>Classes</th>\n      <th>Region</th>\n    </tr>\n  </thead>\n  <tbody>\n    <tr>\n      <th>122</th>\n      <td>123</td>\n      <td>day</td>\n      <td>month</td>\n      <td>year</td>\n      <td>Temperature</td>\n      <td>RH</td>\n      <td>Ws</td>\n      <td>Rain</td>\n      <td>FFMC</td>\n      <td>DMC</td>\n      <td>DC</td>\n      <td>ISI</td>\n      <td>BUI</td>\n      <td>FWI</td>\n      <td>Classes</td>\n      <td>1</td>\n    </tr>\n  </tbody>\n</table>\n</div>"
     },
     "execution_count": 14,
     "metadata": {},
     "output_type": "execute_result"
    }
   ],
   "source": [
    "df.iloc[[122]]"
   ],
   "metadata": {
    "collapsed": false,
    "ExecuteTime": {
     "end_time": "2025-05-18T06:01:10.074083700Z",
     "start_time": "2025-05-18T06:01:10.020917200Z"
    }
   }
  },
  {
   "cell_type": "code",
   "execution_count": 15,
   "outputs": [],
   "source": [
    "# Remove the 122nd row\n",
    "df = df.drop(122).reset_index(drop=True)"
   ],
   "metadata": {
    "collapsed": false,
    "ExecuteTime": {
     "end_time": "2025-05-18T06:02:21.006590100Z",
     "start_time": "2025-05-18T06:02:20.932046300Z"
    }
   }
  },
  {
   "cell_type": "code",
   "execution_count": 16,
   "outputs": [
    {
     "data": {
      "text/plain": "     index day month  year Temperature  RH  Ws Rain   FFMC  DMC   DC  ISI  \\\n122    124  01    06  2012          32  71  12   0.7  57.1  2.5  8.2  0.6   \n\n     BUI  FWI    Classes    Region  \n122  2.8  0.2  not fire          1  ",
      "text/html": "<div>\n<style scoped>\n    .dataframe tbody tr th:only-of-type {\n        vertical-align: middle;\n    }\n\n    .dataframe tbody tr th {\n        vertical-align: top;\n    }\n\n    .dataframe thead th {\n        text-align: right;\n    }\n</style>\n<table border=\"1\" class=\"dataframe\">\n  <thead>\n    <tr style=\"text-align: right;\">\n      <th></th>\n      <th>index</th>\n      <th>day</th>\n      <th>month</th>\n      <th>year</th>\n      <th>Temperature</th>\n      <th>RH</th>\n      <th>Ws</th>\n      <th>Rain</th>\n      <th>FFMC</th>\n      <th>DMC</th>\n      <th>DC</th>\n      <th>ISI</th>\n      <th>BUI</th>\n      <th>FWI</th>\n      <th>Classes</th>\n      <th>Region</th>\n    </tr>\n  </thead>\n  <tbody>\n    <tr>\n      <th>122</th>\n      <td>124</td>\n      <td>01</td>\n      <td>06</td>\n      <td>2012</td>\n      <td>32</td>\n      <td>71</td>\n      <td>12</td>\n      <td>0.7</td>\n      <td>57.1</td>\n      <td>2.5</td>\n      <td>8.2</td>\n      <td>0.6</td>\n      <td>2.8</td>\n      <td>0.2</td>\n      <td>not fire</td>\n      <td>1</td>\n    </tr>\n  </tbody>\n</table>\n</div>"
     },
     "execution_count": 16,
     "metadata": {},
     "output_type": "execute_result"
    }
   ],
   "source": [
    "df.iloc[[122]]"
   ],
   "metadata": {
    "collapsed": false,
    "ExecuteTime": {
     "end_time": "2025-05-18T06:02:35.688465400Z",
     "start_time": "2025-05-18T06:02:35.604527Z"
    }
   }
  },
  {
   "cell_type": "code",
   "execution_count": 17,
   "outputs": [
    {
     "data": {
      "text/plain": "Index(['index', 'day', 'month', 'year', 'Temperature', ' RH', ' Ws', 'Rain ',\n       'FFMC', 'DMC', 'DC', 'ISI', 'BUI', 'FWI', 'Classes  ', 'Region'],\n      dtype='object')"
     },
     "execution_count": 17,
     "metadata": {},
     "output_type": "execute_result"
    }
   ],
   "source": [
    "df.columns"
   ],
   "metadata": {
    "collapsed": false,
    "ExecuteTime": {
     "end_time": "2025-05-18T06:03:11.079835700Z",
     "start_time": "2025-05-18T06:03:10.995313400Z"
    }
   }
  },
  {
   "cell_type": "code",
   "execution_count": 18,
   "outputs": [
    {
     "data": {
      "text/plain": "Index(['index', 'day', 'month', 'year', 'Temperature', 'RH', 'Ws', 'Rain',\n       'FFMC', 'DMC', 'DC', 'ISI', 'BUI', 'FWI', 'Classes', 'Region'],\n      dtype='object')"
     },
     "execution_count": 18,
     "metadata": {},
     "output_type": "execute_result"
    }
   ],
   "source": [
    "# Remove additional spaces in column names\n",
    "df.columns = df.columns.str.strip()\n",
    "df.columns"
   ],
   "metadata": {
    "collapsed": false,
    "ExecuteTime": {
     "end_time": "2025-05-18T06:04:17.488020300Z",
     "start_time": "2025-05-18T06:04:17.414017200Z"
    }
   }
  },
  {
   "cell_type": "code",
   "execution_count": 19,
   "outputs": [],
   "source": [
    "# change the required columns as Integer data type\n",
    "df[['month','day','year','Temperature','RH','Ws']] = df[['month','day','year','Temperature','RH','Ws']].astype(int)"
   ],
   "metadata": {
    "collapsed": false,
    "ExecuteTime": {
     "end_time": "2025-05-18T06:06:56.019869400Z",
     "start_time": "2025-05-18T06:06:55.962075100Z"
    }
   }
  },
  {
   "cell_type": "code",
   "execution_count": 23,
   "outputs": [
    {
     "name": "stdout",
     "output_type": "stream",
     "text": [
      "<class 'pandas.core.frame.DataFrame'>\n",
      "RangeIndex: 243 entries, 0 to 242\n",
      "Data columns (total 16 columns):\n",
      " #   Column       Non-Null Count  Dtype \n",
      "---  ------       --------------  ----- \n",
      " 0   index        243 non-null    int64 \n",
      " 1   day          243 non-null    int32 \n",
      " 2   month        243 non-null    int32 \n",
      " 3   year         243 non-null    int32 \n",
      " 4   Temperature  243 non-null    int32 \n",
      " 5   RH           243 non-null    int32 \n",
      " 6   Ws           243 non-null    int32 \n",
      " 7   Rain         243 non-null    object\n",
      " 8   FFMC         243 non-null    object\n",
      " 9   DMC          243 non-null    object\n",
      " 10  DC           243 non-null    object\n",
      " 11  ISI          243 non-null    object\n",
      " 12  BUI          243 non-null    object\n",
      " 13  FWI          243 non-null    object\n",
      " 14  Classes      243 non-null    object\n",
      " 15  Region       243 non-null    int32 \n",
      "dtypes: int32(7), int64(1), object(8)\n",
      "memory usage: 23.9+ KB\n"
     ]
    }
   ],
   "source": [
    "df.info()"
   ],
   "metadata": {
    "collapsed": false,
    "ExecuteTime": {
     "end_time": "2025-05-18T13:09:33.291994200Z",
     "start_time": "2025-05-18T13:09:33.261862Z"
    }
   }
  },
  {
   "cell_type": "code",
   "execution_count": 26,
   "outputs": [],
   "source": [
    "# changing other columns to float data types\n",
    "objects = [features for features in df.columns if df[features].dtypes=='O']"
   ],
   "metadata": {
    "collapsed": false,
    "ExecuteTime": {
     "end_time": "2025-05-18T13:13:37.509812200Z",
     "start_time": "2025-05-18T13:13:37.499033400Z"
    }
   }
  },
  {
   "cell_type": "code",
   "execution_count": 27,
   "outputs": [],
   "source": [
    "for i in objects:\n",
    "    if i!='Classes':\n",
    "        df[i] = df[i].astype(float)"
   ],
   "metadata": {
    "collapsed": false,
    "ExecuteTime": {
     "end_time": "2025-05-18T13:14:43.854123Z",
     "start_time": "2025-05-18T13:14:43.835604100Z"
    }
   }
  },
  {
   "cell_type": "code",
   "execution_count": 28,
   "outputs": [
    {
     "name": "stdout",
     "output_type": "stream",
     "text": [
      "<class 'pandas.core.frame.DataFrame'>\n",
      "RangeIndex: 243 entries, 0 to 242\n",
      "Data columns (total 16 columns):\n",
      " #   Column       Non-Null Count  Dtype  \n",
      "---  ------       --------------  -----  \n",
      " 0   index        243 non-null    int64  \n",
      " 1   day          243 non-null    int32  \n",
      " 2   month        243 non-null    int32  \n",
      " 3   year         243 non-null    int32  \n",
      " 4   Temperature  243 non-null    int32  \n",
      " 5   RH           243 non-null    int32  \n",
      " 6   Ws           243 non-null    int32  \n",
      " 7   Rain         243 non-null    float64\n",
      " 8   FFMC         243 non-null    float64\n",
      " 9   DMC          243 non-null    float64\n",
      " 10  DC           243 non-null    float64\n",
      " 11  ISI          243 non-null    float64\n",
      " 12  BUI          243 non-null    float64\n",
      " 13  FWI          243 non-null    float64\n",
      " 14  Classes      243 non-null    object \n",
      " 15  Region       243 non-null    int32  \n",
      "dtypes: float64(7), int32(7), int64(1), object(1)\n",
      "memory usage: 23.9+ KB\n"
     ]
    }
   ],
   "source": [
    "df.info()"
   ],
   "metadata": {
    "collapsed": false,
    "ExecuteTime": {
     "end_time": "2025-05-18T13:14:57.296314900Z",
     "start_time": "2025-05-18T13:14:57.250172Z"
    }
   }
  },
  {
   "cell_type": "code",
   "execution_count": 29,
   "outputs": [
    {
     "data": {
      "text/plain": "            index         day       month    year  Temperature          RH  \\\ncount  243.000000  243.000000  243.000000   243.0   243.000000  243.000000   \nmean   122.316872   15.761317    7.502058  2012.0    32.152263   62.041152   \nstd     71.540562    8.842552    1.114793     0.0     3.628039   14.828160   \nmin      0.000000    1.000000    6.000000  2012.0    22.000000   21.000000   \n25%     60.500000    8.000000    7.000000  2012.0    30.000000   52.500000   \n50%    121.000000   16.000000    8.000000  2012.0    32.000000   63.000000   \n75%    184.500000   23.000000    8.000000  2012.0    35.000000   73.500000   \nmax    245.000000   31.000000    9.000000  2012.0    42.000000   90.000000   \n\n               Ws        Rain        FFMC         DMC          DC         ISI  \\\ncount  243.000000  243.000000  243.000000  243.000000  243.000000  243.000000   \nmean    15.493827    0.762963   77.842387   14.680658   49.430864    4.742387   \nstd      2.811385    2.003207   14.349641   12.393040   47.665606    4.154234   \nmin      6.000000    0.000000   28.600000    0.700000    6.900000    0.000000   \n25%     14.000000    0.000000   71.850000    5.800000   12.350000    1.400000   \n50%     15.000000    0.000000   83.300000   11.300000   33.100000    3.500000   \n75%     17.000000    0.500000   88.300000   20.800000   69.100000    7.250000   \nmax     29.000000   16.800000   96.000000   65.900000  220.400000   19.000000   \n\n              BUI         FWI      Region  \ncount  243.000000  243.000000  243.000000  \nmean    16.690535    7.035391    0.497942  \nstd     14.228421    7.440568    0.501028  \nmin      1.100000    0.000000    0.000000  \n25%      6.000000    0.700000    0.000000  \n50%     12.400000    4.200000    0.000000  \n75%     22.650000   11.450000    1.000000  \nmax     68.000000   31.100000    1.000000  ",
      "text/html": "<div>\n<style scoped>\n    .dataframe tbody tr th:only-of-type {\n        vertical-align: middle;\n    }\n\n    .dataframe tbody tr th {\n        vertical-align: top;\n    }\n\n    .dataframe thead th {\n        text-align: right;\n    }\n</style>\n<table border=\"1\" class=\"dataframe\">\n  <thead>\n    <tr style=\"text-align: right;\">\n      <th></th>\n      <th>index</th>\n      <th>day</th>\n      <th>month</th>\n      <th>year</th>\n      <th>Temperature</th>\n      <th>RH</th>\n      <th>Ws</th>\n      <th>Rain</th>\n      <th>FFMC</th>\n      <th>DMC</th>\n      <th>DC</th>\n      <th>ISI</th>\n      <th>BUI</th>\n      <th>FWI</th>\n      <th>Region</th>\n    </tr>\n  </thead>\n  <tbody>\n    <tr>\n      <th>count</th>\n      <td>243.000000</td>\n      <td>243.000000</td>\n      <td>243.000000</td>\n      <td>243.0</td>\n      <td>243.000000</td>\n      <td>243.000000</td>\n      <td>243.000000</td>\n      <td>243.000000</td>\n      <td>243.000000</td>\n      <td>243.000000</td>\n      <td>243.000000</td>\n      <td>243.000000</td>\n      <td>243.000000</td>\n      <td>243.000000</td>\n      <td>243.000000</td>\n    </tr>\n    <tr>\n      <th>mean</th>\n      <td>122.316872</td>\n      <td>15.761317</td>\n      <td>7.502058</td>\n      <td>2012.0</td>\n      <td>32.152263</td>\n      <td>62.041152</td>\n      <td>15.493827</td>\n      <td>0.762963</td>\n      <td>77.842387</td>\n      <td>14.680658</td>\n      <td>49.430864</td>\n      <td>4.742387</td>\n      <td>16.690535</td>\n      <td>7.035391</td>\n      <td>0.497942</td>\n    </tr>\n    <tr>\n      <th>std</th>\n      <td>71.540562</td>\n      <td>8.842552</td>\n      <td>1.114793</td>\n      <td>0.0</td>\n      <td>3.628039</td>\n      <td>14.828160</td>\n      <td>2.811385</td>\n      <td>2.003207</td>\n      <td>14.349641</td>\n      <td>12.393040</td>\n      <td>47.665606</td>\n      <td>4.154234</td>\n      <td>14.228421</td>\n      <td>7.440568</td>\n      <td>0.501028</td>\n    </tr>\n    <tr>\n      <th>min</th>\n      <td>0.000000</td>\n      <td>1.000000</td>\n      <td>6.000000</td>\n      <td>2012.0</td>\n      <td>22.000000</td>\n      <td>21.000000</td>\n      <td>6.000000</td>\n      <td>0.000000</td>\n      <td>28.600000</td>\n      <td>0.700000</td>\n      <td>6.900000</td>\n      <td>0.000000</td>\n      <td>1.100000</td>\n      <td>0.000000</td>\n      <td>0.000000</td>\n    </tr>\n    <tr>\n      <th>25%</th>\n      <td>60.500000</td>\n      <td>8.000000</td>\n      <td>7.000000</td>\n      <td>2012.0</td>\n      <td>30.000000</td>\n      <td>52.500000</td>\n      <td>14.000000</td>\n      <td>0.000000</td>\n      <td>71.850000</td>\n      <td>5.800000</td>\n      <td>12.350000</td>\n      <td>1.400000</td>\n      <td>6.000000</td>\n      <td>0.700000</td>\n      <td>0.000000</td>\n    </tr>\n    <tr>\n      <th>50%</th>\n      <td>121.000000</td>\n      <td>16.000000</td>\n      <td>8.000000</td>\n      <td>2012.0</td>\n      <td>32.000000</td>\n      <td>63.000000</td>\n      <td>15.000000</td>\n      <td>0.000000</td>\n      <td>83.300000</td>\n      <td>11.300000</td>\n      <td>33.100000</td>\n      <td>3.500000</td>\n      <td>12.400000</td>\n      <td>4.200000</td>\n      <td>0.000000</td>\n    </tr>\n    <tr>\n      <th>75%</th>\n      <td>184.500000</td>\n      <td>23.000000</td>\n      <td>8.000000</td>\n      <td>2012.0</td>\n      <td>35.000000</td>\n      <td>73.500000</td>\n      <td>17.000000</td>\n      <td>0.500000</td>\n      <td>88.300000</td>\n      <td>20.800000</td>\n      <td>69.100000</td>\n      <td>7.250000</td>\n      <td>22.650000</td>\n      <td>11.450000</td>\n      <td>1.000000</td>\n    </tr>\n    <tr>\n      <th>max</th>\n      <td>245.000000</td>\n      <td>31.000000</td>\n      <td>9.000000</td>\n      <td>2012.0</td>\n      <td>42.000000</td>\n      <td>90.000000</td>\n      <td>29.000000</td>\n      <td>16.800000</td>\n      <td>96.000000</td>\n      <td>65.900000</td>\n      <td>220.400000</td>\n      <td>19.000000</td>\n      <td>68.000000</td>\n      <td>31.100000</td>\n      <td>1.000000</td>\n    </tr>\n  </tbody>\n</table>\n</div>"
     },
     "execution_count": 29,
     "metadata": {},
     "output_type": "execute_result"
    }
   ],
   "source": [
    "df.describe()"
   ],
   "metadata": {
    "collapsed": false,
    "ExecuteTime": {
     "end_time": "2025-05-18T13:15:55.650794400Z",
     "start_time": "2025-05-18T13:15:55.531414600Z"
    }
   }
  },
  {
   "cell_type": "code",
   "execution_count": 30,
   "outputs": [
    {
     "data": {
      "text/plain": "   index  day  month  year  Temperature  RH  Ws  Rain  FFMC  DMC    DC  ISI  \\\n0      0    1      6  2012           29  57  18   0.0  65.7  3.4   7.6  1.3   \n1      1    2      6  2012           29  61  13   1.3  64.4  4.1   7.6  1.0   \n2      2    3      6  2012           26  82  22  13.1  47.1  2.5   7.1  0.3   \n3      3    4      6  2012           25  89  13   2.5  28.6  1.3   6.9  0.0   \n4      4    5      6  2012           27  77  16   0.0  64.8  3.0  14.2  1.2   \n\n   BUI  FWI      Classes  Region  \n0  3.4  0.5  not fire          0  \n1  3.9  0.4  not fire          0  \n2  2.7  0.1  not fire          0  \n3  1.7  0.0  not fire          0  \n4  3.9  0.5  not fire          0  ",
      "text/html": "<div>\n<style scoped>\n    .dataframe tbody tr th:only-of-type {\n        vertical-align: middle;\n    }\n\n    .dataframe tbody tr th {\n        vertical-align: top;\n    }\n\n    .dataframe thead th {\n        text-align: right;\n    }\n</style>\n<table border=\"1\" class=\"dataframe\">\n  <thead>\n    <tr style=\"text-align: right;\">\n      <th></th>\n      <th>index</th>\n      <th>day</th>\n      <th>month</th>\n      <th>year</th>\n      <th>Temperature</th>\n      <th>RH</th>\n      <th>Ws</th>\n      <th>Rain</th>\n      <th>FFMC</th>\n      <th>DMC</th>\n      <th>DC</th>\n      <th>ISI</th>\n      <th>BUI</th>\n      <th>FWI</th>\n      <th>Classes</th>\n      <th>Region</th>\n    </tr>\n  </thead>\n  <tbody>\n    <tr>\n      <th>0</th>\n      <td>0</td>\n      <td>1</td>\n      <td>6</td>\n      <td>2012</td>\n      <td>29</td>\n      <td>57</td>\n      <td>18</td>\n      <td>0.0</td>\n      <td>65.7</td>\n      <td>3.4</td>\n      <td>7.6</td>\n      <td>1.3</td>\n      <td>3.4</td>\n      <td>0.5</td>\n      <td>not fire</td>\n      <td>0</td>\n    </tr>\n    <tr>\n      <th>1</th>\n      <td>1</td>\n      <td>2</td>\n      <td>6</td>\n      <td>2012</td>\n      <td>29</td>\n      <td>61</td>\n      <td>13</td>\n      <td>1.3</td>\n      <td>64.4</td>\n      <td>4.1</td>\n      <td>7.6</td>\n      <td>1.0</td>\n      <td>3.9</td>\n      <td>0.4</td>\n      <td>not fire</td>\n      <td>0</td>\n    </tr>\n    <tr>\n      <th>2</th>\n      <td>2</td>\n      <td>3</td>\n      <td>6</td>\n      <td>2012</td>\n      <td>26</td>\n      <td>82</td>\n      <td>22</td>\n      <td>13.1</td>\n      <td>47.1</td>\n      <td>2.5</td>\n      <td>7.1</td>\n      <td>0.3</td>\n      <td>2.7</td>\n      <td>0.1</td>\n      <td>not fire</td>\n      <td>0</td>\n    </tr>\n    <tr>\n      <th>3</th>\n      <td>3</td>\n      <td>4</td>\n      <td>6</td>\n      <td>2012</td>\n      <td>25</td>\n      <td>89</td>\n      <td>13</td>\n      <td>2.5</td>\n      <td>28.6</td>\n      <td>1.3</td>\n      <td>6.9</td>\n      <td>0.0</td>\n      <td>1.7</td>\n      <td>0.0</td>\n      <td>not fire</td>\n      <td>0</td>\n    </tr>\n    <tr>\n      <th>4</th>\n      <td>4</td>\n      <td>5</td>\n      <td>6</td>\n      <td>2012</td>\n      <td>27</td>\n      <td>77</td>\n      <td>16</td>\n      <td>0.0</td>\n      <td>64.8</td>\n      <td>3.0</td>\n      <td>14.2</td>\n      <td>1.2</td>\n      <td>3.9</td>\n      <td>0.5</td>\n      <td>not fire</td>\n      <td>0</td>\n    </tr>\n  </tbody>\n</table>\n</div>"
     },
     "execution_count": 30,
     "metadata": {},
     "output_type": "execute_result"
    }
   ],
   "source": [
    "df.head()"
   ],
   "metadata": {
    "collapsed": false,
    "ExecuteTime": {
     "end_time": "2025-05-18T13:16:08.406247400Z",
     "start_time": "2025-05-18T13:16:08.349513100Z"
    }
   }
  },
  {
   "cell_type": "code",
   "execution_count": null,
   "outputs": [],
   "source": [],
   "metadata": {
    "collapsed": false
   }
  }
 ],
 "metadata": {
  "kernelspec": {
   "display_name": "Python 3",
   "language": "python",
   "name": "python3"
  },
  "language_info": {
   "codemirror_mode": {
    "name": "ipython",
    "version": 2
   },
   "file_extension": ".py",
   "mimetype": "text/x-python",
   "name": "python",
   "nbconvert_exporter": "python",
   "pygments_lexer": "ipython2",
   "version": "2.7.6"
  }
 },
 "nbformat": 4,
 "nbformat_minor": 0
}
